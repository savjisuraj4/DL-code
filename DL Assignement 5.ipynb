{
 "cells": [
  {
   "cell_type": "code",
   "execution_count": 1,
   "id": "db4c41bc",
   "metadata": {},
   "outputs": [],
   "source": [
    "import re\n",
    "import numpy as np\n",
    "import pandas as pd\n",
    "import matplotlib.pyplot as plt"
   ]
  },
  {
   "cell_type": "code",
   "execution_count": 2,
   "id": "be6c2a88",
   "metadata": {},
   "outputs": [],
   "source": [
    "sentences=\"\"\"We are about to study the idea of a computational process.\n",
    "Computational processes are abstract beings that inhabit computers.\n",
    "As they evolve, processes manipulate other abstract things called data.\n",
    "The evolution of a process is directed by a pattern of rules\n",
    "called a program. People create programs to direct processes. In effect,\n",
    "we conjure the spirits of the computer with our spells.\"\"\""
   ]
  },
  {
   "cell_type": "code",
   "execution_count": 16,
   "id": "e17c5e2e",
   "metadata": {},
   "outputs": [],
   "source": [
    "sentences=re.sub(\"[^A-Za-z0-9]+\",\" \",sentences)\n",
    "\n",
    "sentences=re.sub(r'(?:^| )\\w(?:$| )',' ',sentences).strip()\n",
    "\n",
    "sentences=sentences.lower()"
   ]
  },
  {
   "cell_type": "code",
   "execution_count": 20,
   "id": "95e1249c",
   "metadata": {},
   "outputs": [],
   "source": [
    "words=sentences.split()\n",
    "vocab=set(words)\n",
    "\n",
    "vocab_len=len(vocab)\n",
    "embed_dim=10\n",
    "context_size=2  #context size of 2 suggests that the algorithm will consider two words to the left and two words to the right of a target word when learning its representation."
   ]
  },
  {
   "cell_type": "code",
   "execution_count": 21,
   "id": "6d546fa8",
   "metadata": {},
   "outputs": [],
   "source": [
    "word_to_ix={word:i for i ,word in enumerate(vocab)}\n",
    "ix_to_word={i:word for i ,word in enumerate(vocab)}"
   ]
  },
  {
   "cell_type": "code",
   "execution_count": 23,
   "id": "ece46a33",
   "metadata": {},
   "outputs": [
    {
     "name": "stdout",
     "output_type": "stream",
     "text": [
      "[(['we', 'are', 'to', 'study'], 'about'), (['are', 'about', 'study', 'the'], 'to'), (['about', 'to', 'the', 'idea'], 'study'), (['to', 'study', 'idea', 'of'], 'the'), (['study', 'the', 'of', 'computational'], 'idea')]\n"
     ]
    }
   ],
   "source": [
    "data=[]\n",
    "for i in range(2,len(words)-2):\n",
    "    target=words[i]\n",
    "    context=[words[i-2],words[i-1],words[i+1],words[i+2]]\n",
    "    data.append((context,target))\n",
    "print(data[:5])"
   ]
  },
  {
   "cell_type": "code",
   "execution_count": 43,
   "id": "31ccd156",
   "metadata": {},
   "outputs": [],
   "source": [
    "embeddings=np.random.random_sample((vocab_len,embed_dim))"
   ]
  },
  {
   "cell_type": "code",
   "execution_count": 44,
   "id": "15c8d21c",
   "metadata": {},
   "outputs": [],
   "source": [
    "#Linear Model\n",
    "\n",
    "def linear(m,theta):\n",
    "    w=theta\n",
    "    return m.dot(w)"
   ]
  },
  {
   "cell_type": "code",
   "execution_count": 45,
   "id": "25028d4c",
   "metadata": {},
   "outputs": [],
   "source": [
    "def log_softmax(x):\n",
    "    e_x=np.exp(x-np.max(x))\n",
    "    return np.log(e_x/e_x.sum())"
   ]
  },
  {
   "cell_type": "code",
   "execution_count": 61,
   "id": "e25ef1e7",
   "metadata": {},
   "outputs": [],
   "source": [
    "def NLLLoss(logs,target):\n",
    "    out=logs[range(len(target)),target]\n",
    "    return -out.sum()/len(out)"
   ]
  },
  {
   "cell_type": "code",
   "execution_count": 62,
   "id": "8c014e5f",
   "metadata": {},
   "outputs": [],
   "source": [
    "def log_softmax_crossentropy_with_logits(logits,target):\n",
    "        out =np.zeros_like(logits)\n",
    "        out[np.arange(len(logits)),target]=1\n",
    "        softmax=np.exp(logits)/np.exp(logits).sum(axis=-1,keepdims=True)\n",
    "        \n",
    "        return (-out+softmax)/logits.shape[0]"
   ]
  },
  {
   "cell_type": "code",
   "execution_count": 63,
   "id": "61abfb70",
   "metadata": {},
   "outputs": [],
   "source": [
    "def forward(context_idxs,theta):\n",
    "    m=embeddings[context_idxs].reshape(1,-1)\n",
    "    n=linear(m,theta)\n",
    "    o=log_softmax(n)\n",
    "    \n",
    "    return m,n,o"
   ]
  },
  {
   "cell_type": "code",
   "execution_count": 64,
   "id": "7bddd811",
   "metadata": {},
   "outputs": [],
   "source": [
    "def backword(preds,target_idxs):\n",
    "    m,n,o =preds\n",
    "    dlog=log_softmax_crossentropy_with_logits(n,target_idxs)\n",
    "    \n",
    "    dw=m.T.dot(dlog)\n",
    "    \n",
    "    return dw"
   ]
  },
  {
   "cell_type": "code",
   "execution_count": 65,
   "id": "8dfc657d",
   "metadata": {},
   "outputs": [],
   "source": [
    "def optimize(theta,grad,lr=0.03):\n",
    "    theta-=grad*lr\n",
    "    return theta"
   ]
  },
  {
   "cell_type": "code",
   "execution_count": 66,
   "id": "d0a1fc8d",
   "metadata": {},
   "outputs": [],
   "source": [
    "#Genrate training data\n",
    "\n",
    "theta=np.random.uniform(-1,1,(2*context_size*embed_dim,vocab_len))"
   ]
  },
  {
   "cell_type": "code",
   "execution_count": 67,
   "id": "b11836df",
   "metadata": {},
   "outputs": [],
   "source": [
    "epoch_loss={}\n",
    "\n",
    "for epoch in range(80):\n",
    "    losses=[]\n",
    "    \n",
    "    for context,target in data:\n",
    "        \n",
    "        context_idxs=np.array([word_to_ix[w] for w in context])\n",
    "        preds=forward(context_idxs,theta)\n",
    "        \n",
    "        target_idxs=np.array([word_to_ix[target]])\n",
    "        loss=NLLLoss(preds[-1],target_idxs)\n",
    "        \n",
    "        losses.append(loss)\n",
    "        \n",
    "        grad=backword(preds,target_idxs)\n",
    "        theta=optimize(theta,grad,lr=0.03)\n",
    "        \n",
    "    epoch_loss[epoch]=losses"
   ]
  },
  {
   "cell_type": "code",
   "execution_count": 74,
   "id": "38ebf181",
   "metadata": {},
   "outputs": [
    {
     "data": {
      "text/plain": [
       "Text(0, 0.5, 'Losses')"
      ]
     },
     "execution_count": 74,
     "metadata": {},
     "output_type": "execute_result"
    },
    {
     "data": {
      "image/png": "[encoded data removed]",
      "text/plain": [
       "<Figure size 640x480 with 1 Axes>"
      ]
     },
     "metadata": {},
     "output_type": "display_data"
    }
   ],
   "source": [
    "ix=np.arange(0,80)\n",
    "\n",
    "fig=plt.figure()\n",
    "fig.suptitle('Epoch/losses')\n",
    "plt.plot(ix,[epoch_loss[i][0] for i in ix])\n",
    "plt.xlabel(\"Epoch\")\n",
    "plt.ylabel(\"Losses\")"
   ]
  },
  {
   "cell_type": "code",
   "execution_count": 78,
   "id": "3af026d4",
   "metadata": {},
   "outputs": [],
   "source": [
    "def predict(words):\n",
    "    context_idxs=np.array([word_to_ix[w] for w in words])\n",
    "    preds=forward(context_idxs,theta)\n",
    "    word=ix_to_word[np.argmax(preds[-1])]\n",
    "    \n",
    "    return word"
   ]
  },
  {
   "cell_type": "code",
   "execution_count": 79,
   "id": "e902195d",
   "metadata": {},
   "outputs": [
    {
     "data": {
      "text/plain": [
       "'about'"
      ]
     },
     "execution_count": 79,
     "metadata": {},
     "output_type": "execute_result"
    }
   ],
   "source": [
    "predict(['we', 'are', 'to', 'study'])"
   ]
  },
  {
   "cell_type": "code",
   "execution_count": 80,
   "id": "60981309",
   "metadata": {},
   "outputs": [
    {
     "data": {
      "text/plain": [
       "1.0"
      ]
     },
     "execution_count": 80,
     "metadata": {},
     "output_type": "execute_result"
    }
   ],
   "source": [
    "def accuracy():\n",
    "    wrong=0\n",
    "    \n",
    "    for context,target in data:\n",
    "        if(predict(context)!=target):\n",
    "            wrong+=1\n",
    "    return (1-(wrong/len(data)))\n",
    "\n",
    "accuracy()"
   ]
  },
  {
   "cell_type": "code",
   "execution_count": null,
   "id": "b22c46f2",
   "metadata": {},
   "outputs": [],
   "source": []
  }
 ],
 "metadata": {
  "kernelspec": {
   "display_name": "Python 3 (ipykernel)",
   "language": "python",
   "name": "python3"
  },
  "language_info": {
   "codemirror_mode": {
    "name": "ipython",
    "version": 3
   },
   "file_extension": ".py",
   "mimetype": "text/x-python",
   "name": "python",
   "nbconvert_exporter": "python",
   "pygments_lexer": "ipython3",
   "version": "3.11.4"
  }
 },
 "nbformat": 4,
 "nbformat_minor": 5
}
